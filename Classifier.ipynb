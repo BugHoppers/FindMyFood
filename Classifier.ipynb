{
 "cells": [
  {
   "cell_type": "markdown",
   "metadata": {},
   "source": [
    "### Import Libraries and Modules"
   ]
  },
  {
   "cell_type": "code",
   "execution_count": 1,
   "metadata": {
    "scrolled": true
   },
   "outputs": [
    {
     "name": "stderr",
     "output_type": "stream",
     "text": [
      "/home/sourish/anaconda3/lib/python3.6/importlib/_bootstrap.py:219: RuntimeWarning: numpy.dtype size changed, may indicate binary incompatibility. Expected 96, got 88\n",
      "  return f(*args, **kwds)\n",
      "/home/sourish/anaconda3/lib/python3.6/site-packages/h5py/__init__.py:36: FutureWarning: Conversion of the second argument of issubdtype from `float` to `np.floating` is deprecated. In future, it will be treated as `np.float64 == np.dtype(float).type`.\n",
      "  from ._conv import register_converters as _register_converters\n",
      "/home/sourish/anaconda3/lib/python3.6/importlib/_bootstrap.py:219: RuntimeWarning: numpy.dtype size changed, may indicate binary incompatibility. Expected 96, got 88\n",
      "  return f(*args, **kwds)\n",
      "/home/sourish/anaconda3/lib/python3.6/importlib/_bootstrap.py:219: RuntimeWarning: numpy.dtype size changed, may indicate binary incompatibility. Expected 96, got 88\n",
      "  return f(*args, **kwds)\n",
      "Using TensorFlow backend.\n"
     ]
    }
   ],
   "source": [
    "from preprocess_data import generator\n",
    "import math\n",
    "from keras.models import Sequential, Model"
   ]
  },
  {
   "cell_type": "markdown",
   "metadata": {},
   "source": [
    "### Import Dataset"
   ]
  },
  {
   "cell_type": "code",
   "execution_count": 2,
   "metadata": {},
   "outputs": [
    {
     "name": "stdout",
     "output_type": "stream",
     "text": [
      "Found 283 images belonging to 7 classes.\n"
     ]
    }
   ],
   "source": [
    "train_generator = generator('./assets/food-dataset')\n",
    "no_of_classes = len(train_generator.class_indices)"
   ]
  },
  {
   "cell_type": "markdown",
   "metadata": {},
   "source": [
    "### Define the Model"
   ]
  },
  {
   "cell_type": "code",
   "execution_count": 3,
   "metadata": {
    "scrolled": true
   },
   "outputs": [
    {
     "name": "stderr",
     "output_type": "stream",
     "text": [
      "/media/sourish/SSD2/Codes/Project/deep-learning/FindMyFood/model.py:18: UserWarning: Update your `Model` call to the Keras 2 API: `Model(inputs=Tensor(\"in..., outputs=Tensor(\"de...)`\n",
      "  model = Model(input=base_model.input, output=pred)\n"
     ]
    }
   ],
   "source": [
    "from model import buildmodel\n",
    "\n",
    "model = buildmodel(no_of_classes)"
   ]
  },
  {
   "cell_type": "code",
   "execution_count": 4,
   "metadata": {},
   "outputs": [
    {
     "name": "stdout",
     "output_type": "stream",
     "text": [
      "Epoch 1/10\n",
      "1/0 [================================================================================================================================================================================================================================================================================================================================================================================================] - 19s 19s/step - loss: 2.1254 - acc: 0.2031\n",
      "Epoch 2/10\n",
      "1/0 [================================================================================================================================================================================================================================================================================================================================================================================================] - 4s 4s/step - loss: 2.6889 - acc: 0.3906\n",
      "Epoch 3/10\n",
      "1/0 [================================================================================================================================================================================================================================================================================================================================================================================================] - 11s 11s/step - loss: 2.0109 - acc: 0.3281\n",
      "Epoch 4/10\n"
     ]
    },
    {
     "name": "stderr",
     "output_type": "stream",
     "text": [
      "/home/sourish/anaconda3/lib/python3.6/site-packages/PIL/TiffImagePlugin.py:763: UserWarning: Possibly corrupt EXIF data.  Expecting to read 12 bytes but only got 10. Skipping tag 42037\n",
      "  \" Skipping tag %s\" % (size, len(data), tag))\n"
     ]
    },
    {
     "name": "stdout",
     "output_type": "stream",
     "text": [
      "1/0 [================================================================================================================================================================================================================================================================================================================================================================================================] - 5s 5s/step - loss: 1.8515 - acc: 0.5000\n",
      "Epoch 5/10\n",
      "1/0 [================================================================================================================================================================================================================================================================================================================================================================================================] - 7s 7s/step - loss: 0.7475 - acc: 0.7407\n",
      "Epoch 6/10\n",
      "1/0 [================================================================================================================================================================================================================================================================================================================================================================================================] - 9s 9s/step - loss: 0.6826 - acc: 0.7344\n",
      "Epoch 7/10\n",
      "1/0 [================================================================================================================================================================================================================================================================================================================================================================================================] - 10s 10s/step - loss: 0.2587 - acc: 0.9219\n",
      "Epoch 8/10\n",
      "1/0 [================================================================================================================================================================================================================================================================================================================================================================================================] - 8s 8s/step - loss: 0.1266 - acc: 0.9531\n",
      "Epoch 9/10\n",
      "1/0 [================================================================================================================================================================================================================================================================================================================================================================================================] - 8s 8s/step - loss: 0.0725 - acc: 1.0000\n",
      "Epoch 10/10\n",
      "1/0 [================================================================================================================================================================================================================================================================================================================================================================================================] - 4s 4s/step - loss: 0.0190 - acc: 1.0000\n"
     ]
    },
    {
     "data": {
      "text/plain": [
       "<keras.callbacks.History at 0x7ff1d5463400>"
      ]
     },
     "execution_count": 4,
     "metadata": {},
     "output_type": "execute_result"
    }
   ],
   "source": [
    "model.fit_generator(train_generator, steps_per_epoch=len(train_generator)/64, epochs=10)"
   ]
  },
  {
   "cell_type": "markdown",
   "metadata": {},
   "source": [
    "### Save Model"
   ]
  },
  {
   "cell_type": "code",
   "execution_count": 5,
   "metadata": {},
   "outputs": [
    {
     "name": "stderr",
     "output_type": "stream",
     "text": [
      "/home/sourish/anaconda3/lib/python3.6/site-packages/PIL/TiffImagePlugin.py:763: UserWarning: Possibly corrupt EXIF data.  Expecting to read 12 bytes but only got 10. Skipping tag 42037\n",
      "  \" Skipping tag %s\" % (size, len(data), tag))\n"
     ]
    }
   ],
   "source": [
    "model.save('model.h5')"
   ]
  },
  {
   "cell_type": "code",
   "execution_count": null,
   "metadata": {},
   "outputs": [],
   "source": []
  }
 ],
 "metadata": {
  "kernelspec": {
   "display_name": "Python 3",
   "language": "python",
   "name": "python3"
  },
  "language_info": {
   "codemirror_mode": {
    "name": "ipython",
    "version": 3
   },
   "file_extension": ".py",
   "mimetype": "text/x-python",
   "name": "python",
   "nbconvert_exporter": "python",
   "pygments_lexer": "ipython3",
   "version": "3.6.7"
  }
 },
 "nbformat": 4,
 "nbformat_minor": 2
}
